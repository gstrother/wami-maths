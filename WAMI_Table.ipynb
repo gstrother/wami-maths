{
  "nbformat": 4,
  "nbformat_minor": 0,
  "metadata": {
    "colab": {
      "name": "WAMI_Table",
      "provenance": [],
      "collapsed_sections": [
        "0iV4Dw4o4nDy",
        "R9e4vf9Sxrh2",
        "k92bIrqdx005"
      ],
      "include_colab_link": true
    },
    "kernelspec": {
      "name": "python3",
      "display_name": "Python 3"
    }
  },
  "cells": [
    {
      "cell_type": "markdown",
      "metadata": {
        "id": "view-in-github",
        "colab_type": "text"
      },
      "source": [
        "<a href=\"https://colab.research.google.com/github/gstrother/wami-maths/blob/main/WAMI_Table.ipynb\" target=\"_parent\"><img src=\"https://colab.research.google.com/assets/colab-badge.svg\" alt=\"Open In Colab\"/></a>"
      ]
    },
    {
      "cell_type": "markdown",
      "metadata": {
        "id": "CVI_eTDa5dco"
      },
      "source": [
        ""
      ]
    },
    {
      "cell_type": "markdown",
      "metadata": {
        "id": "39_Q0GMU4gaR"
      },
      "source": [
        "# Class XP"
      ]
    },
    {
      "cell_type": "code",
      "metadata": {
        "id": "nSrjUNYK8QL5"
      },
      "source": [
        "import math\n",
        "\n",
        "class Classes:\n",
        "  def battle_mage(stage):\n",
        "    return (stage ** (1 + (stage / 1000)))\n",
        "\n",
        "  def druid(mrefill):\n",
        "    return (math.log(mrefill))\n",
        "\n",
        "  def conjurer(level):\n",
        "    return (level ** (1 + (level / 5000)))\n",
        "  \n",
        "  def demonist(demons):\n",
        "    return ((demons * 1000) ** (1 + (demons / 200)))\n",
        "\n",
        "  def beastmaster(zone):\n",
        "    return ((zone ** (1 + (zone / 10))) * 2)\n",
        "\n",
        "  def animist(training_level):\n",
        "    return (training_level ** (1 + (training_level / 250)))\n"
      ],
      "execution_count": null,
      "outputs": []
    },
    {
      "cell_type": "code",
      "metadata": {
        "id": "CORAO-zh-4Dp",
        "colab": {
          "base_uri": "https://localhost:8080/"
        },
        "outputId": "a394259a-0a3f-4123-d5f3-06d1f1074e85"
      },
      "source": [
        "wami_classes = Classes\n",
        "seconds_required = 0\n",
        "\n",
        "for i in range(1, 25):\n",
        "  seconds_required = seconds_required + ((50000 * i) / wami_classes.animist(50)) \n",
        "\n",
        "print ((int)(seconds_required/60), \" minutes for animist 1->150\")\n",
        "print ((int)(seconds_required/60/60), \" hours for animist 1->150\")\n"
      ],
      "execution_count": null,
      "outputs": [
        {
          "output_type": "stream",
          "text": [
            "2286  minutes for animist 1->150\n",
            "38  hours for animist 1->150\n"
          ],
          "name": "stdout"
        }
      ]
    },
    {
      "cell_type": "markdown",
      "metadata": {
        "id": "0iV4Dw4o4nDy"
      },
      "source": [
        "# Arena"
      ]
    },
    {
      "cell_type": "code",
      "metadata": {
        "id": "NTjEMz46AJMC"
      },
      "source": [
        "from random import random\n",
        "# Class to store some functions and parameters for WAMI's Dark Shadow arena class\n",
        "class ArenaProgress:\n",
        "  def __init__(self, \n",
        "               arena_damage_level = 1,    # default arena damage level to 1\n",
        "               freeze_chance_level = 1,   # default freeze chance to level 1\n",
        "               freeze_duration = 2,       # default freeze duration to level 2\n",
        "               attack_speed_level = 1):   # default attack speed to level 1\n",
        "    # if any of the variables are passed, update the class \n",
        "    #   instance vars (e.g. \"self\")\n",
        "    self.arena_damage_level = arena_damage_level\n",
        "    self.freeze_chance_level = freeze_chance_level\n",
        "    self.freeze_duration = freeze_duration\n",
        "    self.attack_speed_level = attack_speed_level\n",
        "    # calculated variables that belong to each class instance \n",
        "    self.base_damage = arena_damage_level * 20\n",
        "    self.damage = self.base_damage * (1.01**arena_damage_level) \n",
        "  \n",
        "  # function that will calculate estimated time to kill based only on \n",
        "  #   attack speed and damage. does NOT use crit / freeze\n",
        "  # EXAMPLE - stage_duration(stage=200) : returns double representing seconds to kill\n",
        "  def stage_duration(self, stage: int):\n",
        "    stage_hit_points = 300 * (1.08**stage)\n",
        "    time_to_kill = stage_hit_points / (self.damage * 2/(1+(1.02*self.attack_speed_level)))  # fixed to be multiplicative instead of exponential - ##gps 8/9/2021\n",
        "    return time_to_kill\n",
        "  \n",
        "  # function that will estimate total duration given a set number seconds and \n",
        "  #   stage.  This assumes all time is spent on ONE stage, does NOT take into\n",
        "  #   account how long a stage may take to kill.\n",
        "  def freeze_reduction_over_time(self, seconds: int, stage: int):\n",
        "    attack_speed = 2 / (1.02*self.attack_speed_level)  # fixed to be multiplicative instead of exponential - ##gps 8/9/2021\n",
        "    freeze_chance = (1.02 ** self.freeze_chance_level) / stage  # set baseline freeze chance which is 1.02^freeze_change divided by the stage #\n",
        "    is_frozen = False  # default frozen to be false \n",
        "    total_duration = 0  # total duration counter, defaulted to zero and will be updated shorted \n",
        "    frozen_time_left = self.freeze_duration  # set frozen time to be equal to freeze duration, this will decrement as rounds pass and freeze doesn't proc\n",
        "    total_damage = 0  # initial damage starts at zero and will increment each round by atk dmg\n",
        "    while seconds > 0:  \n",
        "      # increment from 0 to seconds at time increments of attackspeed\n",
        "      rand = random()   # seed a random number to see if we \"proc\" freeze\n",
        "      # print(\"freeze_chance: {0}, rand: {1}\".format(freeze_chance,rand))\n",
        "      if freeze_chance >= rand:\n",
        "        # we proc'd freeze!\n",
        "        is_frozen = True\n",
        "        # reset freeze time to full duration\n",
        "        frozen_time_left = self.freeze_duration\n",
        "        # multiply current freeze chance by 0.9 since oni math\n",
        "        freeze_chance = freeze_chance * 0.9\n",
        "      else:\n",
        "        # we DIDN'T proc freeze\n",
        "        if is_frozen:\n",
        "          # if we're already frozen, decrease freeze time by atk spd time (e.g. length of a round for this loop)\n",
        "          frozen_time_left = frozen_time_left - attack_speed\n",
        "          # if after subtracting atk speed from frozen time, if it's less than or equal to zero, the mob isn't frozen anymore\n",
        "          if frozen_time_left <= 0:\n",
        "            is_frozen = False\n",
        "        else:\n",
        "          # we DIDN'T proc freeze AND the mob isn't already frozen, the we decrement the actual seconds \n",
        "          seconds = seconds - attack_speed\n",
        "      # increment total damage and total duration\n",
        "      total_damage = total_damage + self.damage\n",
        "      total_duration = total_duration + attack_speed \n",
        "    # return two numbers  (the total duration and total damage)\n",
        "    return total_duration, total_damage"
      ],
      "execution_count": null,
      "outputs": []
    },
    {
      "cell_type": "code",
      "metadata": {
        "id": "eARgQUn0H7wg"
      },
      "source": [
        "# How increasing attack speed affects total duration with freeze chance and how the damage scales \n",
        "import numpy as np\n",
        "import matplotlib.pyplot as plt\n",
        "\n",
        "# ds_test = ArenaProgress(arena_damage_level=191, freeze_chance_level=211, freeze_duration=5, attack_speed_level=91)\n",
        "# print(\"stage 150: {} seconds\".format(ds_test.stage_duration(150)))\n",
        "\n",
        "# make new empty arrays (lists) to be used for total rounds \n",
        "damage = []\n",
        "duration = []\n",
        "for atk_speed in range (232, 252, 1):   # range (141, 151, 1) will iterate from 141 to (but not including) 151 in increments of 1\n",
        "  # make a new class instance of Arena Progress using atk_speed from the above loop.\n",
        "  # we'll add each of these instances to be above listed damage/duration lists\n",
        "  ds_test = ArenaProgress(arena_damage_level=160,  # change these as you see fit\n",
        "                          freeze_chance_level=198,  # change these as you see fit \n",
        "                          freeze_duration=4,  # change these as you see fit \n",
        "                          attack_speed_level=(atk_speed))\n",
        "  # make two new numpy vectors of size (50,) (think of this like a one dimentional list of 50 items long)\n",
        "  temp_damage = np.empty((50,))\n",
        "  temp_duration = np.empty((50,))\n",
        "  for run in range (0,50,1):\n",
        "    # for each of 50 runs, update the two vectors with the result of the ArenaProgress's freeze_reduction over time.\n",
        "    # \n",
        "    # freeze_reduction_over_time returns TWO numbers, so we assign those to each numpy vector at \n",
        "    #   the [run] (which is our iterator of our for loop) location  \n",
        "    temp_duration[run], temp_damage[run] = ds_test.freeze_reduction_over_time(60,220)\n",
        "  # let numpy calculate the mean for each numpy vector and store it in our array lists\n",
        "  damage.append(temp_damage.mean())\n",
        "  duration.append(temp_duration.mean())\n",
        "\n",
        "# build two numpy arrays using our lists that we build from the for loop\n",
        "np_dmg = np.array(damage)\n",
        "np_duration = np.array(duration)\n",
        "# print(\"average duration over 100 iterations: {}\".format(np.average(runs, axis=1)))\n",
        "# print(\"minimum duration over 100 iterations: {}\".format(runs.min()))\n",
        "# print(\"maximum duration over 100 iterations: {}\".format(runs.max()))\n",
        "# print(\"estimated actual duration from 60 seconds: {}\".format(ds_test.freeze_reduction_over_time(seconds=60, stage=150)))"
      ],
      "execution_count": null,
      "outputs": []
    },
    {
      "cell_type": "code",
      "metadata": {
        "colab": {
          "base_uri": "https://localhost:8080/",
          "height": 291
        },
        "id": "na_7TSUXCR9O",
        "outputId": "0b4ac441-eed2-449e-a875-7279c6ab4e0f"
      },
      "source": [
        "x = np.linspace(0,20,20)\n",
        "fig = plt.figure()\n",
        "dmg_axis = fig.add_subplot()\n",
        "color = 'tab:red'\n",
        "dmg_axis.set_xlabel('atk_speed range')\n",
        "dmg_axis.set_ylabel('average damage over run')\n",
        "dmg_axis.plot(x, np_dmg, color=color)\n",
        "\n",
        "color = 'tab:blue'\n",
        "duration_axis = dmg_axis.twinx()\n",
        "duration_axis.set_ylabel('average duration')\n",
        "duration_axis.plot(x, np_duration, color=color)\n",
        "\n",
        "plt.show()"
      ],
      "execution_count": null,
      "outputs": [
        {
          "output_type": "display_data",
          "data": {
            "image/png": "[encoded data removed]",
            "text/plain": [
              "<Figure size 432x288 with 2 Axes>"
            ]
          },
          "metadata": {
            "needs_background": "light"
          }
        }
      ]
    },
    {
      "cell_type": "code",
      "metadata": {
        "colab": {
          "base_uri": "https://localhost:8080/"
        },
        "id": "biOSRvivCVz6",
        "outputId": "81a0d145-6a43-4bfd-e30c-4759719e26d8"
      },
      "source": [
        "print(np_dmg.shape)\n",
        "print(np_duration.shape)\n",
        "print(x.shape)"
      ],
      "execution_count": null,
      "outputs": [
        {
          "output_type": "stream",
          "text": [
            "(100,)\n",
            "(100,)\n",
            "(50,)\n"
          ],
          "name": "stdout"
        }
      ]
    },
    {
      "cell_type": "code",
      "metadata": {
        "colab": {
          "base_uri": "https://localhost:8080/"
        },
        "id": "remdzl5PseL8",
        "outputId": "a34fc854-e59c-438f-d129-f8b239038279"
      },
      "source": [
        "base_cost = 500\n",
        "for reduction in range (1, 25, 1):\n",
        "  sum = 0\n",
        "  for run in range (1, 7, 1):\n",
        "    sum = sum + ((base_cost - (reduction * 2)) * run)\n",
        "\n",
        "  print(\"for reduction level \", reduction, \" total of 7 runs costs: \", sum)\n"
      ],
      "execution_count": null,
      "outputs": [
        {
          "output_type": "stream",
          "text": [
            "for reduction level  1  total of 7 runs costs:  10458\n",
            "for reduction level  2  total of 7 runs costs:  10416\n",
            "for reduction level  3  total of 7 runs costs:  10374\n",
            "for reduction level  4  total of 7 runs costs:  10332\n",
            "for reduction level  5  total of 7 runs costs:  10290\n",
            "for reduction level  6  total of 7 runs costs:  10248\n",
            "for reduction level  7  total of 7 runs costs:  10206\n",
            "for reduction level  8  total of 7 runs costs:  10164\n",
            "for reduction level  9  total of 7 runs costs:  10122\n",
            "for reduction level  10  total of 7 runs costs:  10080\n",
            "for reduction level  11  total of 7 runs costs:  10038\n",
            "for reduction level  12  total of 7 runs costs:  9996\n",
            "for reduction level  13  total of 7 runs costs:  9954\n",
            "for reduction level  14  total of 7 runs costs:  9912\n",
            "for reduction level  15  total of 7 runs costs:  9870\n",
            "for reduction level  16  total of 7 runs costs:  9828\n",
            "for reduction level  17  total of 7 runs costs:  9786\n",
            "for reduction level  18  total of 7 runs costs:  9744\n",
            "for reduction level  19  total of 7 runs costs:  9702\n",
            "for reduction level  20  total of 7 runs costs:  9660\n",
            "for reduction level  21  total of 7 runs costs:  9618\n",
            "for reduction level  22  total of 7 runs costs:  9576\n",
            "for reduction level  23  total of 7 runs costs:  9534\n",
            "for reduction level  24  total of 7 runs costs:  9492\n"
          ],
          "name": "stdout"
        }
      ]
    },
    {
      "cell_type": "markdown",
      "metadata": {
        "id": "hh_q-Tx74uiL"
      },
      "source": [
        "# Dumpbump"
      ]
    },
    {
      "cell_type": "markdown",
      "metadata": {
        "id": "R9e4vf9Sxrh2"
      },
      "source": [
        "## Original DumpBump off/def"
      ]
    },
    {
      "cell_type": "code",
      "metadata": {
        "colab": {
          "base_uri": "https://localhost:8080/"
        },
        "id": "9Eram5w3L8FM",
        "outputId": "7240fe49-cdf1-4897-e3aa-42a71f3fc46a"
      },
      "source": [
        "import numpy as np\n",
        "def token_spread(dump_tokens: int, do_print=True):\n",
        "  tokens_start = dump_tokens\n",
        "  one_cost_levels = np.zeros(5, dtype=np.int16) #make a new array of size 5, filled with zeroes as integers\n",
        "  two_cost_levels = np.zeros(5, dtype=np.int16) #make a new array of size 5, filled with zeroes as integers\n",
        "  off_def_level = 0\n",
        "  round = 0\n",
        "  should_we_continue = True\n",
        "  while should_we_continue:\n",
        "    round += 1\n",
        "    for iterator in range(0, 5, 1): \n",
        "      if dump_tokens <= 0 or dump_tokens - round < 0: \n",
        "        should_we_continue = False\n",
        "        break\n",
        "      off_def_level += 1\n",
        "      one_cost_levels[iterator] += 1\n",
        "      dump_tokens -= round\n",
        "\n",
        "    if round % 2 == 0:    # if level is divisible by 2, buy \n",
        "      for iterator in range(0, 5, 1):\n",
        "        if dump_tokens <= 0 or dump_tokens - round < 0:\n",
        "          should_we_continue = False\n",
        "          break\n",
        "        off_def_level += 1\n",
        "        two_cost_levels[iterator] += 1\n",
        "        dump_tokens -= round\n",
        "    # print(\"dump tokens left: {0}\".format(dump_tokens))\n",
        "    # print(\"one cost levelS: {0} | two cost levels: {1} | off/def levels: {2}, off_def % : {3:.2e}\"\n",
        "    #       .format(one_cost_levels, two_cost_levels, off_def_level, 1.02**off_def_level))\n",
        "  off_def_bonus = 1.02**off_def_level - 1    \n",
        "  #the finale\n",
        "  if do_print: \n",
        "    print(\"Tokens Spent: {0}\\n\".format(tokens_start - dump_tokens))\n",
        "    print(\"Mrefill lvl {0} bonus: {1:.2%}\".format(one_cost_levels[0],1.02**one_cost_levels[0] - 1) )\n",
        "    print(\"    Exp lvl {0} bonus: {1:.2%}\".format(one_cost_levels[1],1.02**one_cost_levels[1] - 1) )\n",
        "    print(\"Dungeon lvl {0} bonus: {1:.2%}\".format(one_cost_levels[2],1.02**one_cost_levels[2] - 1) )\n",
        "    print(\"   Gold lvl {0} bonus: {1:.2%}\".format(one_cost_levels[3],1.02**one_cost_levels[3] - 1) )\n",
        "    print(\"   MPow lvl {0} bonus: {1:.2%}\\n\".format(one_cost_levels[4],1.02**one_cost_levels[4] - 1) )\n",
        "\n",
        "    print(\"Essence lvl {0} bonus: {1:.2%}\".format(two_cost_levels[0],1.02**two_cost_levels[0] - 1) )\n",
        "    print(\"  Perks lvl {0} bonus: {1:.2%}\".format(two_cost_levels[1],1.02**two_cost_levels[1] - 1) )\n",
        "    print(\"Syn Exp lvl {0} bonus: {1:.2%}\".format(two_cost_levels[2],1.02**two_cost_levels[2] - 1) )\n",
        "    print(\"ClassXP lvl {0} bonus: {1:.2%}\".format(two_cost_levels[3],1.02**two_cost_levels[3] - 1) )\n",
        "    print(\"     DE lvl {0} bonus: {1:.2%}\\n\".format(two_cost_levels[4],1.02**two_cost_levels[4] - 1) )\n",
        "\n",
        "    print(\"Off/Def Bonus: {0:.2e}\".format(off_def_bonus))\n",
        "    print(\"------------------------------\")\n",
        "  return off_def_bonus\n",
        "\n",
        "token_spread(42904)\n",
        "# token_array = {}\n",
        "# for tokens in range(2700, 2700*6,2700): \n",
        "#   bonus = token_spread(tokens)\n",
        "#   token_array[tokens] = bonus\n",
        "\n",
        "# prev_off = 1\n",
        "# for k,v in token_array.items():\n",
        "#   print(\"tokens {0} -> off/def bonus: {1:.2%}  ||  gain: {2:.2%} \".format(k,v, v/prev_off))\n",
        "#   prev_off = v\n"
      ],
      "execution_count": null,
      "outputs": [
        {
          "output_type": "stream",
          "name": "stdout",
          "text": [
            "Tokens Spent: 42879\n",
            "\n",
            "Mrefill lvl 107 bonus: 732.18%\n",
            "    Exp lvl 107 bonus: 732.18%\n",
            "Dungeon lvl 106 bonus: 715.86%\n",
            "   Gold lvl 106 bonus: 715.86%\n",
            "   MPow lvl 106 bonus: 715.86%\n",
            "\n",
            "Essence lvl 53 bonus: 185.63%\n",
            "  Perks lvl 53 bonus: 185.63%\n",
            "Syn Exp lvl 53 bonus: 185.63%\n",
            "ClassXP lvl 53 bonus: 185.63%\n",
            "     DE lvl 53 bonus: 185.63%\n",
            "\n",
            "Off/Def Bonus: 7.15e+06\n",
            "------------------------------\n"
          ]
        },
        {
          "output_type": "execute_result",
          "data": {
            "text/plain": [
              "7150506.956795651"
            ]
          },
          "metadata": {},
          "execution_count": 9
        }
      ]
    },
    {
      "cell_type": "markdown",
      "metadata": {
        "id": "k92bIrqdx005"
      },
      "source": [
        "## off/def optimizer"
      ]
    },
    {
      "cell_type": "code",
      "metadata": {
        "id": "qnBJOUWbGRW4"
      },
      "source": [
        "import numpy as np\n",
        "debug = False\n",
        "#region inputs\n",
        "tokens = 50000\n",
        "reset_percent = 0.175 # percent as a decimal\n",
        "current_perm_off_def = 1807.7 # as a decimal or e notation\n",
        "#endregion inputs\n",
        "optimal_off_def_bonus, optimal_temp_tokens, optimal_perm_tokens = 0, 0, 0# init some empty vars\n",
        "bonus_array = [] \n",
        "\n",
        "for n in range (0, tokens, tokens//100):\n",
        "  perm_tokens = n\n",
        "  temp_tokens = tokens - n \n",
        "  perm_bonus = (token_spread(do_print=False, dump_tokens=perm_tokens) * reset_percent) + current_perm_off_def \n",
        "  temp_bonus = token_spread(do_print=False, dump_tokens=temp_tokens) \n",
        "  total_bonus = perm_bonus * temp_bonus\n",
        "  if debug:\n",
        "    print(\"temp tokens {0} gives {1:.2e} bonus\".format(temp_tokens, temp_bonus))\n",
        "    print(\"perm tokens {0} gives {1:.2e} bonus\".format(perm_tokens, perm_bonus))\n",
        "    print(\"total bonus: {0:.2e}\".format(total_bonus))\n",
        "  bonus_array.append((total_bonus, temp_bonus, perm_bonus))\n",
        "  if total_bonus > optimal_off_def_bonus:\n",
        "    optimal_off_def_bonus = total_bonus\n",
        "    optimal_perm_tokens = perm_tokens\n",
        "    optimal_temp_tokens = temp_tokens "
      ],
      "execution_count": null,
      "outputs": []
    },
    {
      "cell_type": "code",
      "metadata": {
        "colab": {
          "base_uri": "https://localhost:8080/",
          "height": 380
        },
        "id": "M2Nxrqc_IzUt",
        "outputId": "3f634806-d398-471e-acab-0370d02f252e"
      },
      "source": [
        "import matplotlib.pyplot as plt\n",
        "\n",
        "print(\"optimal_perm_tokens: {}\".format(optimal_perm_tokens))\n",
        "print(\"optimal_temp_tokens: {}\".format(optimal_temp_tokens))\n",
        "print(\"Total Tokens Spent (( {0} )) for a total off/def: {1:.2e}\"\n",
        "      .format(optimal_perm_tokens+optimal_temp_tokens, optimal_off_def_bonus))\n",
        "print(\"Total Perm bonus after reset: {0:.2e}\"\n",
        "      .format(token_spread(do_print=False, dump_tokens=optimal_temp_tokens) * reset_percent\n",
        "              + token_spread(do_print=False, dump_tokens=optimal_perm_tokens)\n",
        "              + current_perm_off_def))\n",
        "\n",
        "plt.plot(bonus_array)\n",
        "plt.scatter(2, bonus_array[2][0], c=\"r\")\n",
        "plt.scatter(20, bonus_array[20][0], c=\"b\")\n",
        "plt.scatter(20, bonus_array[40][0], c=\"b\")\n",
        "for i in range(0,50, 10):\n",
        "  plt.scatter(i, bonus_array[i][0], c='y')\n",
        "plt.show()\n",
        "\n",
        "print(\"All temp bonus: {0:.2e} -> leads to total perm bonus of {1:.2e}\"\n",
        "      .format(bonus_array[1][0], bonus_array[1][1] * reset_percent + bonus_array[1][2] ))\n",
        "print(\"All perm bonus: {0:.2e}\".format(bonus_array[-1][0]))"
      ],
      "execution_count": null,
      "outputs": [
        {
          "output_type": "stream",
          "name": "stdout",
          "text": [
            "optimal_perm_tokens: 62500\n",
            "optimal_temp_tokens: 62500\n",
            "Total Tokens Spent (( 125000 )) for a total off/def: 1.03e+16\n",
            "Total Perm bonus after reset: 2.45e+08\n"
          ]
        },
        {
          "output_type": "display_data",
          "data": {
            "image/png": "[encoded data removed]",
            "text/plain": [
              "<Figure size 432x288 with 1 Axes>"
            ]
          },
          "metadata": {
            "needs_background": "light"
          }
        },
        {
          "output_type": "stream",
          "name": "stdout",
          "text": [
            "All temp bonus: 8.48e+14 -> leads to total perm bonus of 1.31e+11\n",
            "All perm bonus: 1.62e+12\n"
          ]
        }
      ]
    },
    {
      "cell_type": "markdown",
      "metadata": {
        "id": "5VwlRWXMxlQ5"
      },
      "source": [
        "## DumpBump Class"
      ]
    },
    {
      "cell_type": "code",
      "metadata": {
        "id": "jBijjtVv4zY2"
      },
      "source": [
        "from functools import cmp_to_key\n",
        "class DumpBumpBuff:\n",
        "  def __init__(self, level = 0, priority = 1, base_cost = 1):\n",
        "    self.level = 0\n",
        "    self.priority = priority\n",
        "    self.bonus = 1.02**self.level\n",
        "    self.base_cost = base_cost\n",
        "\n",
        "  def __str__(self):\n",
        "    return \"Level: {0}, Priority: {1}, Bonus: {2}\".format(self.level, \n",
        "                                                          self.priority, \n",
        "                                                          self.bonus)\n",
        "            \n",
        "  def __repl__(self):\n",
        "    # print((self.priority / self.base_cost) * (self.level + 1))\n",
        "    return((self.priority / self.base_cost) * (self.level + 1))\n",
        "\n",
        "  def comparator(a, b):\n",
        "    if a < b:\n",
        "      return -1\n",
        "    elif a == b:\n",
        "      return 0\n",
        "    else:\n",
        "      return 1 \n",
        "\n",
        "\n",
        "class DumpBump:\n",
        "  def __init__(self):\n",
        "    self.buffs = {\n",
        "      'mrefill': DumpBumpBuff(level=0, priority=1, base_cost=1),\n",
        "      'exp': DumpBumpBuff(level=0, priority=1, base_cost=1),\n",
        "      'mpow': DumpBumpBuff(level=0, priority=1, base_cost=1),\n",
        "      'dungeon': DumpBumpBuff(level=0, priority=1, base_cost=1),\n",
        "      'gold': DumpBumpBuff(level=0, priority=1, base_cost=1),\n",
        "      'essence': DumpBumpBuff(level=0, priority=1, base_cost=2),\n",
        "      'synexp': DumpBumpBuff(level=0, priority=1, base_cost=2),\n",
        "      'perks': DumpBumpBuff(level=0, priority=1, base_cost=2),\n",
        "      'classexp': DumpBumpBuff(level=0, priority=1, base_cost=2),\n",
        "      'de': DumpBumpBuff(level=0, priority=1, base_cost=2),\n",
        "    }\n",
        "    self.tokens = 0\n",
        "    self.off_def_level = 0\n",
        "    self.tokens_spent = 0 \n",
        "\n",
        "\n",
        "  def dump_off_def(self, dump_tokens):\n",
        "    self.tokens = dump_tokens\n",
        "    self.off_def_level  = 0\n",
        "    should_we_continue = True\n",
        "    while should_we_continue:\n",
        "      # make a new dict to store \"ranked\" buffs based on priority\n",
        "      buff_list = {}\n",
        "      # rank buffs, add em to the dict\n",
        "      for k,v in self.buffs.items():\n",
        "        buff_score = int((v.priority / v.base_cost)* 2)\n",
        "        buff_list[k] = buff_score\n",
        "      # make a sorted dict of buffs so we level the highest priority first\n",
        "      sorted_buffs = dict(sorted(buff_list.items(), key=lambda item: item[1], reverse=True))\n",
        "      # iterate through the buffs \n",
        "      for buff, priority in sorted_buffs.items():\n",
        "        # and level them the number of times priority is set to\n",
        "        for number_of_levels in range(0, priority, 1):\n",
        "          # if we can't level the next prioritized buff, try the next one!\n",
        "          if self.tokens <= 0 \\\n",
        "              or self.tokens - ((self.buffs[buff].level+1) * self.buffs[buff].base_cost)  < 0: \n",
        "            should_we_continue = False\n",
        "            break  \n",
        "          else:\n",
        "            # if we can afford it, level the damn buff!\n",
        "            self.__level_buff__(self.buffs[buff])\n",
        "          # increment off def\n",
        "          self.off_def_level\n",
        "          self.tokens_spent = dump_tokens - self.tokens\n",
        "    #the finale\n",
        "    return 1.002**self.off_def_level \n",
        "\n",
        "\n",
        "  # helper method to handle leveling each buff \n",
        "  def __level_buff__(self, buff: DumpBumpBuff):\n",
        "      if self.tokens - (buff.level+1) * buff.base_cost < 0:\n",
        "        return\n",
        "      else:\n",
        "        buff.level += 1\n",
        "        self.tokens -= buff.level * buff.base_cost\n",
        "        self.off_def_level  += 1\n",
        "  \n",
        "\n",
        "  def __str__(self):\n",
        "    ret_str = \"off/def bonus: {0:.2e}\\n\".format(1.02**self.off_def_level)\n",
        "    for k,v in self.buffs.items():\n",
        "      ret_str = ret_str + k + \" bonus: \" + str(self.buffs[k]) + \"\\n\"\n",
        "    return ret_str\n",
        "  \n",
        "\n",
        "  def print(self):\n",
        "    print(\"Tokens Spent: {0}\\n\".format(self.tokens_spent) + \n",
        "          \"Mrefill lvl {0} bonus: {1:.2%}\\n\".format(self.buffs['mrefill'].level,1.02**self.buffs['mrefill'].level - 1) +\n",
        "          \"    Exp lvl {0} bonus: {1:.2%}\\n\".format(self.buffs['exp'].level,1.02**self.buffs['exp'].level - 1) +\n",
        "          \"Dungeon lvl {0} bonus: {1:.2%}\\n\".format(self.buffs['dungeon'].level,1.02**self.buffs['dungeon'].level - 1) +\n",
        "          \"   Gold lvl {0} bonus: {1:.2%}\\n\".format(self.buffs['gold'].level,1.02**self.buffs['gold'].level - 1) +\n",
        "          \"   MPow lvl {0} bonus: {1:.2%}\\n\".format(self.buffs['mpow'].level,1.02**self.buffs['mpow'].level - 1) +\n",
        "          \"Essence lvl {0} bonus: {1:.2%}\\n\".format(self.buffs['essence'].level,1.02**self.buffs['essence'].level- 1) +\n",
        "          \"  Perks lvl {0} bonus: {1:.2%}\\n\".format(self.buffs['perks'].level,1.02**self.buffs['perks'].level - 1) +\n",
        "          \"Syn Exp lvl {0} bonus: {1:.2%}\\n\".format(self.buffs['synexp'].level,1.02**self.buffs['synexp'].level - 1) +\n",
        "          \"ClassXP lvl {0} bonus: {1:.2%}\\n\".format(self.buffs['classexp'].level,1.02**self.buffs['classexp'].level - 1) +\n",
        "          \"     DE lvl {0} bonus: {1:.2%}\\n\".format(self.buffs['de'].level,1.02**self.buffs['de'].level - 1) +\n",
        "          \"Off/Def Bonus: {0:.2e}\\n\".format(1.02**self.off_def_level) +\n",
        "          \"------------------------------\\n\")\n"
      ],
      "execution_count": null,
      "outputs": []
    },
    {
      "cell_type": "markdown",
      "metadata": {
        "id": "2iY6L8vTx8qg"
      },
      "source": [
        "## Test section"
      ]
    },
    {
      "cell_type": "code",
      "metadata": {
        "colab": {
          "base_uri": "https://localhost:8080/"
        },
        "id": "pS6qEOx_x56Q",
        "outputId": "cc1b618a-af5d-4d3e-e2d4-2381089514bf"
      },
      "source": [
        "db = DumpBump()\n",
        "\n",
        "# db.buffs['mrefill'].priority = 2\n",
        "# db.buffs['exp'].priority = 1\n",
        "# db.buffs['essence'].priority = 1\n",
        "\n",
        "db.dump_off_def(dump_tokens=1000000)\n",
        "\n",
        "db.print()"
      ],
      "execution_count": null,
      "outputs": [
        {
          "output_type": "stream",
          "name": "stdout",
          "text": [
            "Tokens Spent: 8119\n",
            "Mrefill lvl 46 bonus: 148.66%\n",
            "    Exp lvl 46 bonus: 148.66%\n",
            "Dungeon lvl 46 bonus: 148.66%\n",
            "   Gold lvl 46 bonus: 148.66%\n",
            "   MPow lvl 46 bonus: 148.66%\n",
            "Essence lvl 23 bonus: 57.69%\n",
            "  Perks lvl 23 bonus: 57.69%\n",
            "Syn Exp lvl 23 bonus: 57.69%\n",
            "ClassXP lvl 23 bonus: 57.69%\n",
            "     DE lvl 22 bonus: 54.60%\n",
            "Off/Def Bonus: 9.09e+02\n",
            "------------------------------\n",
            "\n"
          ]
        }
      ]
    },
    {
      "cell_type": "code",
      "metadata": {
        "colab": {
          "base_uri": "https://localhost:8080/"
        },
        "id": "vwAEVyin5j2h",
        "outputId": "4447582a-c985-4d4c-f67e-10b60de54eaf"
      },
      "source": [
        "db = DumpBump()\n",
        "\n",
        "db.buffs['mrefill'].priority = 0\n",
        "db.buffs['exp'].priority = 0\n",
        "db.buffs['essence'].priority = 0\n",
        "db.buffs['dungeon'].priority = 0\n",
        "db.buffs['mpow'].priority = 0\n",
        "db.buffs['gold'].priority = 0\n",
        "db.buffs['perks'].priority = 1\n",
        "db.buffs['synexp'].priority = 0\n",
        "db.buffs['classexp'].priority = 0\n",
        "db.buffs['de'].priority = 0\n",
        "# if you don't want to level a skill, just set priority to 0\n",
        "# db.buffs['mpow'].priority = 0\n",
        "db.dump_off_def(dump_tokens=765200)\n",
        "\n",
        "db.print()"
      ],
      "execution_count": null,
      "outputs": [
        {
          "output_type": "stream",
          "name": "stdout",
          "text": [
            "Tokens Spent: 764750\n",
            "Mrefill lvl 0 bonus: 0.00%\n",
            "    Exp lvl 0 bonus: 0.00%\n",
            "Dungeon lvl 0 bonus: 0.00%\n",
            "   Gold lvl 0 bonus: 0.00%\n",
            "   MPow lvl 0 bonus: 0.00%\n",
            "Essence lvl 0 bonus: 0.00%\n",
            "  Perks lvl 874 bonus: 3285111440.67%\n",
            "Syn Exp lvl 0 bonus: 0.00%\n",
            "ClassXP lvl 0 bonus: 0.00%\n",
            "     DE lvl 0 bonus: 0.00%\n",
            "Off/Def Bonus: 3.29e+07\n",
            "------------------------------\n",
            "\n"
          ]
        }
      ]
    },
    {
      "cell_type": "code",
      "metadata": {
        "id": "xYyhHvGCH2yl"
      },
      "source": [
        ""
      ],
      "execution_count": null,
      "outputs": []
    },
    {
      "cell_type": "markdown",
      "metadata": {
        "id": "giqRre5IH58M"
      },
      "source": [
        "## New Optimizer"
      ]
    },
    {
      "cell_type": "code",
      "metadata": {
        "colab": {
          "base_uri": "https://localhost:8080/",
          "height": 327
        },
        "id": "ZPi_THKZH9fU",
        "outputId": "e5cf9d12-2526-4d86-a018-89bb90dc1273"
      },
      "source": [
        "import numpy as np\n",
        "import matplotlib.pyplot as plt\n",
        "debug = False\n",
        "#region inputs\n",
        "tokens = 2400000\n",
        "reset_percent = 0.38 # percent as a decimal\n",
        "current_perma_perks = 175.76 # as a decimal or e notation\n",
        "#endregion inputs\n",
        "\n",
        "optimal_perks_percent, optimal_temp_tokens, optimal_perm_tokens = 0, 0, 0# init some empty vars\n",
        "bonus_array = [] \n",
        "\n",
        "for n in range (0, tokens, tokens//100):\n",
        "  perm_tokens = n\n",
        "  temp_tokens = tokens - n \n",
        "  db = DumpBump()\n",
        "\n",
        "  db.buffs['mrefill'].priority = 0\n",
        "  db.buffs['exp'].priority = 0\n",
        "  db.buffs['essence'].priority = 0\n",
        "  db.buffs['dungeon'].priority = 0\n",
        "  db.buffs['mpow'].priority = 0\n",
        "  db.buffs['gold'].priority = 0\n",
        "  db.buffs['perks'].priority = 1\n",
        "  db.buffs['synexp'].priority = 0\n",
        "  db.buffs['classexp'].priority = 0\n",
        "  db.buffs['de'].priority = 0\n",
        "  tmp = db.dump_off_def(dump_tokens=perm_tokens)\n",
        "  perm_bonus = 1.02**db.buffs['perks'].level - 1 + current_perma_perks\n",
        "  # \"  Perks lvl {0} bonus: {1:.2%}\\n\".format(self.buffs['perks'].level,1.02**self.buffs['perks'].level - 1) +\n",
        "  db_temp = DumpBump()\n",
        "\n",
        "  db_temp.buffs['mrefill'].priority = 0\n",
        "  db_temp.buffs['exp'].priority = 0\n",
        "  db_temp.buffs['essence'].priority = 0\n",
        "  db_temp.buffs['dungeon'].priority = 0\n",
        "  db_temp.buffs['mpow'].priority = 0\n",
        "  db_temp.buffs['gold'].priority = 0\n",
        "  db_temp.buffs['perks'].priority = 1\n",
        "  db_temp.buffs['synexp'].priority = 0\n",
        "  db_temp.buffs['classexp'].priority = 0\n",
        "  db_temp.buffs['de'].priority = 0\n",
        "  tmp = db_temp.dump_off_def(dump_tokens=temp_tokens) \n",
        "  temp_bonus = 1.02**db_temp.buffs['perks'].level - 1\n",
        "  total_bonus = perm_bonus * temp_bonus\n",
        "  if debug:\n",
        "    print(\"temp tokens {0} gives {1:.2e} bonus\".format(temp_tokens, temp_bonus))\n",
        "    print(\"perm tokens {0} gives {1:.2e} bonus\".format(perm_tokens, perm_bonus))\n",
        "    print(\"total bonus: {0:.2e}\".format(total_bonus))\n",
        "  bonus_array.append((total_bonus, temp_bonus, perm_bonus))\n",
        "  if total_bonus > optimal_perks_percent:\n",
        "    optimal_perks_percent = total_bonus\n",
        "    optimal_perm_tokens = perm_tokens\n",
        "    optimal_temp_tokens = temp_tokens \n",
        "\n",
        "\n",
        "print(\"optimal_perm_tokens: {}\".format(optimal_perm_tokens))\n",
        "print(\"optimal_temp_tokens: {}\".format(optimal_temp_tokens))\n",
        "print(\"Total Tokens Spent (( {0} )) for a total perks bonus: {1:.2e}\"\n",
        "      .format(optimal_perm_tokens+optimal_temp_tokens, optimal_perks_percent))\n",
        "\n",
        "plt.plot(bonus_array)\n",
        "plt.show()\n"
      ],
      "execution_count": null,
      "outputs": [
        {
          "output_type": "stream",
          "name": "stdout",
          "text": [
            "optimal_perm_tokens: 1128000\n",
            "optimal_temp_tokens: 1272000\n",
            "Total Tokens Spent (( 2400000 )) for a total perks bonus: 6.56e+18\n"
          ]
        },
        {
          "output_type": "display_data",
          "data": {
            "image/png": "[encoded data removed]",
            "text/plain": [
              "<Figure size 432x288 with 1 Axes>"
            ]
          },
          "metadata": {
            "needs_background": "light"
          }
        }
      ]
    },
    {
      "cell_type": "markdown",
      "source": [
        "\n",
        "# DMR"
      ],
      "metadata": {
        "id": "drynrFkW_HF2"
      }
    },
    {
      "cell_type": "code",
      "source": [
        "from math import floor\n",
        "from matplotlib import pyplot as plt\n",
        "# Current DMR\n",
        "starting_dmr = 12000\n",
        "seconds_for_plus_1_dmr = 138 # seconds \n",
        "hours = 24*10\n",
        "ag_boost_level = 0\n",
        "darkness_soulshop_buys = 2\n",
        "\n",
        "# calculated starting values\n",
        "current_dmr = starting_dmr\n",
        "dmr_off_def_cost = 5500 \n",
        "ag_exp_multi = (0.01* ag_boost_level) * (1.25 * darkness_soulshop_buys)\n",
        "mech_exp_base = 50000  # grows at 1% (500) per level \n",
        "\n",
        "total_dm = [] # starting dark matter  \n",
        "total_ag_exp = 0\n",
        "total_dm_if_we_buy_offdef = []\n",
        "total_ag_exp_if_we_buy_off_def = 0\n",
        "\n",
        "for n in range(0, hours):\n",
        "  new_dmr = floor(60*60 / seconds_for_plus_1_dmr)\n",
        "  current_dmr = current_dmr + new_dmr\n",
        "  total_dm.append( 30 * current_dmr )\n",
        "  total_ag_exp = total_ag_exp + ((60*60) * total_dm[-1])\n",
        "  total_dm_if_we_buy_offdef.append( 30 * (current_dmr - dmr_off_def_cost) )\n",
        "  total_ag_exp_if_we_buy_off_def = total_ag_exp_if_we_buy_off_def +  ((60*60) * total_dm_if_we_buy_offdef[-1])\n",
        "\n",
        "# region ending Mech exp % \n",
        "mech_exp_level = 0\n",
        "while(total_ag_exp > 0):\n",
        "  total_ag_exp -= mech_exp_base + (mech_exp_base * mech_exp_level)\n",
        "  mech_exp_level += 1\n",
        "\n",
        "mech_exp_level_if_we_buy_off_def = 0\n",
        "while(total_ag_exp_if_we_buy_off_def > 0):\n",
        "  total_ag_exp_if_we_buy_off_def -= mech_exp_base + (mech_exp_base * mech_exp_level)\n",
        "  mech_exp_level_if_we_buy_off_def += 1\n",
        "\n",
        "print(\"With {0} DMR total mech exp after {1} days: {2:.00%}\".format(starting_dmr, hours//24, mech_exp_level*.05))\n",
        "print(\"With {0} DMR total mech exp after {1} days: {2:.00%}\".format(starting_dmr-dmr_off_def_cost, hours//24, mech_exp_level_if_we_buy_off_def*.05))\n",
        "\n",
        "# region Total dark matter\n",
        "# plt.plot(total_dm)\n",
        "# plt.plot(total_dm_if_we_buy_offdef)\n",
        "# plt.show()\n",
        "# endregion\n",
        "\n",
        "# for i in range(0, len(total_dm)):\n",
        "  # print(\"hour {0} -> total dm: {1} | total dm w/ off_def: {2}\".format(i, total_dm[i], total_dm_if_we_buy_offdef[i]))"
      ],
      "metadata": {
        "colab": {
          "base_uri": "https://localhost:8080/"
        },
        "id": "c7PoEqbL_Aho",
        "outputId": "5132fda6-a0f6-4137-e186-50af2ea95bee"
      },
      "execution_count": null,
      "outputs": [
        {
          "output_type": "stream",
          "name": "stdout",
          "text": [
            "With 12000 DMR total mech exp after 10 days: 19805%\n",
            "With 6500 DMR total mech exp after 10 days: 6305%\n"
          ]
        }
      ]
    },
    {
      "cell_type": "code",
      "source": [
        "base = 18000\n",
        "exponent = 1.006\n",
        "for level in range(500,550):\n",
        "  print(\"level - {0} - cost - {1:1.2e}\".format(level, base * (( level * (level +1) ) / 2 ) * exponent**level))"
      ],
      "metadata": {
        "colab": {
          "base_uri": "https://localhost:8080/"
        },
        "id": "UJ53QgdVmf3q",
        "outputId": "7e3232c5-f5b2-4dca-f1fa-5ac8b06c0ba9"
      },
      "execution_count": null,
      "outputs": [
        {
          "output_type": "stream",
          "name": "stdout",
          "text": [
            "level - 500 - cost - 4.49e+10\n",
            "level - 501 - cost - 4.53e+10\n",
            "level - 502 - cost - 4.58e+10\n",
            "level - 503 - cost - 4.62e+10\n",
            "level - 504 - cost - 4.67e+10\n",
            "level - 505 - cost - 4.72e+10\n",
            "level - 506 - cost - 4.76e+10\n",
            "level - 507 - cost - 4.81e+10\n",
            "level - 508 - cost - 4.86e+10\n",
            "level - 509 - cost - 4.91e+10\n",
            "level - 510 - cost - 4.96e+10\n",
            "level - 511 - cost - 5.01e+10\n",
            "level - 512 - cost - 5.06e+10\n",
            "level - 513 - cost - 5.11e+10\n",
            "level - 514 - cost - 5.16e+10\n",
            "level - 515 - cost - 5.21e+10\n",
            "level - 516 - cost - 5.26e+10\n",
            "level - 517 - cost - 5.31e+10\n",
            "level - 518 - cost - 5.36e+10\n",
            "level - 519 - cost - 5.42e+10\n",
            "level - 520 - cost - 5.47e+10\n",
            "level - 521 - cost - 5.52e+10\n",
            "level - 522 - cost - 5.58e+10\n",
            "level - 523 - cost - 5.63e+10\n",
            "level - 524 - cost - 5.69e+10\n",
            "level - 525 - cost - 5.75e+10\n",
            "level - 526 - cost - 5.80e+10\n",
            "level - 527 - cost - 5.86e+10\n",
            "level - 528 - cost - 5.92e+10\n",
            "level - 529 - cost - 5.97e+10\n",
            "level - 530 - cost - 6.03e+10\n",
            "level - 531 - cost - 6.09e+10\n",
            "level - 532 - cost - 6.15e+10\n",
            "level - 533 - cost - 6.21e+10\n",
            "level - 534 - cost - 6.27e+10\n",
            "level - 535 - cost - 6.33e+10\n",
            "level - 536 - cost - 6.40e+10\n",
            "level - 537 - cost - 6.46e+10\n",
            "level - 538 - cost - 6.52e+10\n",
            "level - 539 - cost - 6.58e+10\n",
            "level - 540 - cost - 6.65e+10\n",
            "level - 541 - cost - 6.71e+10\n",
            "level - 542 - cost - 6.78e+10\n",
            "level - 543 - cost - 6.84e+10\n",
            "level - 544 - cost - 6.91e+10\n",
            "level - 545 - cost - 6.98e+10\n",
            "level - 546 - cost - 7.05e+10\n",
            "level - 547 - cost - 7.11e+10\n",
            "level - 548 - cost - 7.18e+10\n",
            "level - 549 - cost - 7.25e+10\n"
          ]
        }
      ]
    }
  ]
}